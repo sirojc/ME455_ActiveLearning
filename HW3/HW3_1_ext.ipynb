{
 "cells": [
  {
   "cell_type": "code",
   "execution_count": 73,
   "metadata": {},
   "outputs": [],
   "source": [
    "import numpy as np\n",
    "import matplotlib.pyplot as plt\n",
    "\n",
    "# Plots LaTeX-Style\n",
    "plt.rcParams['mathtext.fontset'] = 'stix'\n",
    "plt.rcParams['font.family'] = 'STIXGeneral'"
   ]
  },
  {
   "cell_type": "code",
   "execution_count": 74,
   "metadata": {},
   "outputs": [],
   "source": [
    "# Simulation Params\n",
    "T = 6\n",
    "h = 0.1\n",
    "n = int(T/h)+1\n",
    "\n",
    "# Noise Params\n",
    "var = 0.02\n",
    "std = np.sqrt(var)\n",
    "\n",
    "# Dynamics\n",
    "def dynamics_noisefree(x0, u):\n",
    "    x = np.zeros((n,3))\n",
    "    x[0] = x0\n",
    "    for i in range(n-1):\n",
    "        x[i+1,2] = x[i,2] + h*u[i,1]\n",
    "        x[i+1,0] = x[i,0] + h*np.cos(x[i,2])*u[i,0]\n",
    "        x[i+1,1] = x[i,1] + h*np.sin(x[i,2])*u[i,0]\n",
    "    return x\n",
    "\n",
    "# Initial Input\n",
    "x0 = [0,0,np.pi/2]\n",
    "u_init = np.zeros((n,2))\n",
    "for i in range(n-1):\n",
    "    u_init[i] = [1, -0.5]\n",
    "x_real = dynamics_noisefree(x0, u_init)"
   ]
  },
  {
   "cell_type": "code",
   "execution_count": 75,
   "metadata": {},
   "outputs": [
    {
     "ename": "ValueError",
     "evalue": "could not broadcast input array from shape (303,) into shape (3,100)",
     "output_type": "error",
     "traceback": [
      "\u001b[0;31m---------------------------------------------------------------------------\u001b[0m",
      "\u001b[0;31mValueError\u001b[0m                                Traceback (most recent call last)",
      "Cell \u001b[0;32mIn[75], line 16\u001b[0m\n\u001b[1;32m     14\u001b[0m \u001b[39mfor\u001b[39;00m i \u001b[39min\u001b[39;00m \u001b[39mrange\u001b[39m(n):\n\u001b[1;32m     15\u001b[0m     x_noise[i] \u001b[39m=\u001b[39m x_real[i] \u001b[39m+\u001b[39m np\u001b[39m.\u001b[39mrandom\u001b[39m.\u001b[39mnormal(\u001b[39m0\u001b[39m,std,\u001b[39m3\u001b[39m) \u001b[39m# save to array: timestep, measurement run\u001b[39;00m\n\u001b[0;32m---> 16\u001b[0m     x_noise_runs[i,:,:] \u001b[39m=\u001b[39m np\u001b[39m.\u001b[39mappend(x_noise_runs[i,:], x_noise[i])\n\u001b[1;32m     17\u001b[0m \u001b[39mfor\u001b[39;00m s \u001b[39min\u001b[39;00m \u001b[39mrange\u001b[39m(\u001b[39m7\u001b[39m):\n\u001b[1;32m     18\u001b[0m     axs[\u001b[39m0\u001b[39m]\u001b[39m.\u001b[39mplot(x_noise[s\u001b[39m*\u001b[39m\u001b[39m10\u001b[39m,\u001b[39m0\u001b[39m], x_noise[s\u001b[39m*\u001b[39m\u001b[39m10\u001b[39m,\u001b[39m1\u001b[39m], marker\u001b[39m=\u001b[39m\u001b[39m\"\u001b[39m\u001b[39mo\u001b[39m\u001b[39m\"\u001b[39m, color\u001b[39m=\u001b[39mcolors[s], mec\u001b[39m=\u001b[39m\u001b[39m'\u001b[39m\u001b[39mk\u001b[39m\u001b[39m'\u001b[39m)\n",
      "\u001b[0;31mValueError\u001b[0m: could not broadcast input array from shape (303,) into shape (3,100)"
     ]
    },
    {
     "data": {
      "image/png": "[encoded data removed]",
      "text/plain": [
       "<Figure size 640x480 with 2 Axes>"
      ]
     },
     "metadata": {},
     "output_type": "display_data"
    }
   ],
   "source": [
    "# Run Initial trajectory multiple times\n",
    "# Plot position for [0, ..., 6] seconds, each second changing color\n",
    "\n",
    "colors = ['mediumblue', 'slateblue', 'darkorchid', 'violet', 'mediumaquamarine', 'seagreen', 'darkgreen']\n",
    "\n",
    "fig, axs = plt.subplots(2, 1, height_ratios=[2,1])\n",
    "fig.tight_layout()\n",
    "\n",
    "M = 100\n",
    "for i in range(M):\n",
    "    x_noise = np.zeros((n,3))\n",
    "    for i in range(n):\n",
    "        x_noise[i] = x_real[i] + np.random.normal(0,std,3) # save to array: timestep, state with noise at m\n",
    "    for s in range(7):\n",
    "        axs[0].plot(x_noise[s*10,0], x_noise[s*10,1], marker=\"o\", color=colors[s], mec='k')\n",
    "        axs[1].plot(s, x_noise[s*10,2]*180/np.pi, marker=\"o\", color=colors[s], mec='k')\n",
    "\n",
    "for i in range(n): #Change to estimation from all samples with noise x_noise\n",
    "    axs[0].plot(x_real[i,0], x_real[i,1], marker=\"o\", color='k', markersize='3')\n",
    "    axs[1].plot(i*h, x_real[i,2]*180/np.pi, marker=\"o\", color='k', markersize='3')\n",
    "\n",
    "axs[0].set_xlabel('x')\n",
    "axs[0].set_ylabel('y')\n",
    "axs[1].set_xlabel('t')\n",
    "axs[1].set_ylabel(r'$\\theta (t)$ [°]')\n",
    "axs[0].set_title('Position estimates, M = {}'.format(M))\n",
    "plt.show()\n"
   ]
  }
 ],
 "metadata": {
  "kernelspec": {
   "display_name": "env",
   "language": "python",
   "name": "python3"
  },
  "language_info": {
   "codemirror_mode": {
    "name": "ipython",
    "version": 3
   },
   "file_extension": ".py",
   "mimetype": "text/x-python",
   "name": "python",
   "nbconvert_exporter": "python",
   "pygments_lexer": "ipython3",
   "version": "3.9.6"
  },
  "orig_nbformat": 4
 },
 "nbformat": 4,
 "nbformat_minor": 2
}
