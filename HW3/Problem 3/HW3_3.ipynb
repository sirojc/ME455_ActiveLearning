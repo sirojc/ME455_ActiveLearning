{
 "cells": [
  {
   "cell_type": "code",
   "execution_count": 17,
   "metadata": {},
   "outputs": [],
   "source": [
    "%reset -f\n",
    "\n",
    "import numpy as np\n",
    "import matplotlib.pyplot as plt\n",
    "\n",
    "# Plots LaTeX-Style\n",
    "plt.rcParams['mathtext.fontset'] = 'stix'\n",
    "plt.rcParams['font.family'] = 'STIXGeneral'"
   ]
  },
  {
   "cell_type": "code",
   "execution_count": 18,
   "metadata": {},
   "outputs": [],
   "source": [
    "# Define System\n",
    "T = 1\n",
    "h = 0.1\n",
    "n = int(T/h) + 1\n",
    "\n",
    "A = np.array([[0, 1], [-1, 0]])\n",
    "Ak = np.array([[1, h],[-h, 1]])\n",
    "Ck = np.array([[1, 0],[0, 1]]) # z = x, y\n",
    "x0 = np.array([1, 1])\n",
    "\n",
    "x_var = 0.1\n",
    "z_var = 0.1\n",
    "Q = np.array([[x_var, 0], [0, x_var]])\n",
    "R =np.array([[z_var, 0], [0, z_var]])\n",
    "\n",
    "# Real dynamics\n",
    "x_real = np.zeros((n, 2))\n",
    "x_real[0] = x0\n",
    "for i in range(1, n):\n",
    "    x_real[i] = x_real[i-1] + h * np.dot(A, x_real[i-1])\n",
    "\n",
    "\n",
    "z = np.zeros((n, 2))\n",
    "z[0] = np.dot(Ck, x0) + np.random.normal(0, z_var, size=(1,2))"
   ]
  },
  {
   "cell_type": "code",
   "execution_count": 19,
   "metadata": {},
   "outputs": [],
   "source": [
    "# Kalman\n",
    "x_pred = np.zeros((n, 2))\n",
    "Cov_pred = np.zeros((n, 2, 2))\n",
    "\n",
    "x_pred[0] = x0\n",
    "Cov_pred[0] = Q\n",
    "#Cov_pred[0] = np.zeros((2,2))\n",
    "\n",
    "x_filt = np.zeros((n, 2))\n",
    "Cov_filt = np.zeros((n, 2, 2))\n",
    "\n",
    "x_filt[0] = x0\n",
    "Cov_filt[0] = Q\n",
    "\n",
    "# Nearby filters\n",
    "x_fnear_f = np.zeros((10, n, 2))\n",
    "fnear_amp = [0.9, 0.92, 0.96, 0.98, 0.99, 1.02, 1.06, 1.1, 1.15, 1.2]\n",
    "\n",
    "# Avg error\n",
    "e_filters = np.zeros(11)\n",
    "std_filters = np.zeros(11)\n",
    "#error_filters = np.zeros((11,1))\n",
    "error_filters = {}\n",
    "for i in range(11):\n",
    "    error_filters[i] = []"
   ]
  },
  {
   "cell_type": "code",
   "execution_count": 20,
   "metadata": {},
   "outputs": [
    {
     "name": "stdout",
     "output_type": "stream",
     "text": [
      "[0.07933115 0.07660675 0.06987376 0.06715013 0.06663896 0.06685253\n",
      " 0.06951607 0.08012079 0.09205135 0.10412246 0.11312395]\n",
      "[0.17592679 0.15645125 0.12944194 0.12376779 0.12295484 0.12346835\n",
      " 0.12830956 0.15208181 0.1900298  0.24915704 0.31473781]\n"
     ]
    }
   ],
   "source": [
    "for s in range(100):\n",
    "    for t in range(n):\n",
    "        x_pred[t] = np.dot(Ak, x_pred[t-1]) #+ np.random.normal(0, x_var, size=(1,2))\n",
    "        Cov_pred[t] = np.dot(np.dot(Ak, Cov_pred[t-1]), Ak.T) + Q\n",
    "\n",
    "        z[t] = np.dot(Ck, x_real[t]) + np.random.normal(0, z_var, size=(1,2))\n",
    "        #Kalman\n",
    "        K = np.dot(np.dot(Cov_pred[t], Ck.T), np.linalg.inv(np.dot(np.dot(Ck, Cov_pred[t]), Ck.T) + R))\n",
    "        x_filt[t] = x_pred[t] + np.dot(K, (z[t] - np.dot(Ck, x_pred[t])))\n",
    "        # Cov_filt[t] = Cov_pred[t] - K * Ck @ Cov_pred[t]\n",
    "        e_filters[5] += np.linalg.norm(x_filt[t] - x_real[t])/(n*100)\n",
    "        error_filters[5] = np.append(error_filters[5], np.linalg.norm(x_filt[t] - x_real[t]))\n",
    "\n",
    "        #Filters 1-10\n",
    "        for f in range(0, 5):\n",
    "            Kf = K*fnear_amp[f]\n",
    "            x_fnear_f[f-1, t] = x_pred[t] + np.dot(Kf, (z[t] - np.dot(Ck, x_pred[t])))\n",
    "            e_filters[f] += np.linalg.norm(x_fnear_f[f-1, t] - x_real[t])/(n*100)\n",
    "            error_filters[f] = np.append(error_filters[f], np.linalg.norm(x_fnear_f[f-1, t] - x_real[t]))\n",
    "        for f in range(6, 11):\n",
    "            Kf = K*fnear_amp[f-1]\n",
    "            x_fnear_f[f-1, t] = x_pred[t] + np.dot(Kf, (z[t] - np.dot(Ck, x_pred[t])))\n",
    "            e_filters[f] += np.linalg.norm(x_fnear_f[f-1, t] - x_real[t])/(n*100)\n",
    "            error_filters[f] = np.append(error_filters[f], np.linalg.norm(x_fnear_f[f-1, t] - x_real[t]))\n",
    "\n",
    "for i in range(11):\n",
    "    std_filters[i] = np.std(error_filters[i])\n",
    "print(std_filters)\n",
    "\n",
    "print(e_filters)"
   ]
  },
  {
   "cell_type": "code",
   "execution_count": 21,
   "metadata": {},
   "outputs": [
    {
     "data": {
      "image/png": "[encoded data removed]",
      "text/plain": [
       "<Figure size 640x480 with 1 Axes>"
      ]
     },
     "metadata": {},
     "output_type": "display_data"
    }
   ],
   "source": [
    "fig, ax = plt.subplots()\n",
    "fig.tight_layout()\n",
    "\n",
    "x_axis = [str(fnear_amp[0]) + 'K', str(fnear_amp[1]) + 'K', str(fnear_amp[2]) + 'K', str(fnear_amp[3]) + 'K', str(fnear_amp[4]) + 'K', 'Kalman', str(fnear_amp[5]) + 'K', str(fnear_amp[6]) + 'K', str(fnear_amp[7]) + 'K', str(fnear_amp[8]) + 'K', str(fnear_amp[9]) + 'K']\n",
    "barlist = ax.bar(x_axis, e_filters, color='slateblue', edgecolor='k')\n",
    "barlist[5].set_color('mediumaquamarine')\n",
    "barlist[5].set_edgecolor('k')\n",
    "ax.errorbar(x_axis, e_filters, std_filters, fmt='.', color='Black', elinewidth=1,capthick=4,errorevery=1, alpha=1, ms=4, capsize = 2)\n",
    "#ax.set_ylim(bottom=np.amin(e_filters)-0.01, top=np.amax(e_filters)+0.01)\n",
    "\n",
    "ax.set_xlabel('Filter')\n",
    "ax.set_ylabel('Average error')\n",
    "ax.set_title('Average error Kalman vs. nearby filters')\n",
    "plt.savefig('HW3_3_error.png', dpi=300)\n",
    "plt.show()"
   ]
  }
 ],
 "metadata": {
  "kernelspec": {
   "display_name": "env",
   "language": "python",
   "name": "python3"
  },
  "language_info": {
   "codemirror_mode": {
    "name": "ipython",
    "version": 3
   },
   "file_extension": ".py",
   "mimetype": "text/x-python",
   "name": "python",
   "nbconvert_exporter": "python",
   "pygments_lexer": "ipython3",
   "version": "3.9.6"
  },
  "orig_nbformat": 4
 },
 "nbformat": 4,
 "nbformat_minor": 2
}
