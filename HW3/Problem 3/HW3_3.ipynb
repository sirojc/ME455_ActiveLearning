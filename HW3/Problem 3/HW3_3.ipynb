{
 "cells": [
  {
   "cell_type": "code",
   "execution_count": 45,
   "metadata": {},
   "outputs": [],
   "source": [
    "import numpy as np\n",
    "import matplotlib.pyplot as plt\n",
    "\n",
    "# Plots LaTeX-Style\n",
    "plt.rcParams['mathtext.fontset'] = 'stix'\n",
    "plt.rcParams['font.family'] = 'STIXGeneral'"
   ]
  },
  {
   "cell_type": "code",
   "execution_count": 46,
   "metadata": {},
   "outputs": [],
   "source": [
    "# Import Problem 2 code\n",
    "T = 1\n",
    "h = 0.1\n",
    "n = int(T/h) + 1\n",
    "\n",
    "A = np.array([[0, 1], [-1, 0]])\n",
    "Ak = np.array([[1, h],[-h, 1]])\n",
    "Ck = np.array([1, 0]) # z = x\n",
    "x0 = np.array([1, 1])\n",
    "\n",
    "x_var = 0.1\n",
    "z_var = 0.1\n",
    "Q = np.array([[x_var, 0], [0, x_var]])\n",
    "R = z_var\n",
    "\n",
    "x_real = np.zeros((n, 2))\n",
    "x_real[0] = x0\n",
    "for i in range(1, n):\n",
    "    x_real[i] = x_real[i-1] + h * A @ x_real[i-1]\n",
    "\n",
    "x_pred = np.zeros((n, 2))\n",
    "Cov_pred = np.zeros((n, 2, 2))\n",
    "\n",
    "x_pred[0] = x0\n",
    "Cov_pred[0] = Q\n",
    "\n",
    "x_filt = np.zeros((n, 2))\n",
    "Cov_filt = np.zeros((n, 2, 2))\n",
    "\n",
    "x_filt[0] = x0\n",
    "Cov_filt[0] = Q\n",
    "\n",
    "z = np.zeros(n)\n",
    "z[0] = Ck @ x0 + R * np.random.normal()\n",
    "\n",
    "\n",
    "# Kalman Filter\n",
    "for i in range(1, n):\n",
    "    x_pred[i] = Ak @ x_pred[i-1]\n",
    "    Cov_pred[i] = Ak @ Cov_pred[i-1] @ Ak.T + Q\n",
    "\n",
    "    z[i] = Ck @ x_real[i] + R * np.random.normal()\n",
    "\n",
    "    K = Cov_pred[i] @ Ck.T * 1/(Ck @ Cov_pred[i] @ Ck.T + R)\n",
    "    x_filt[i] = x_pred[i] + K * (z[i] - Ck @ x_pred[i])\n",
    "    Cov_filt[i] = Cov_pred[i] - K * Ck @ Cov_pred[i]"
   ]
  },
  {
   "cell_type": "code",
   "execution_count": 47,
   "metadata": {},
   "outputs": [],
   "source": [
    "x_fnear = np.zeros((10, n, 2))\n",
    "C_fnear = np.zeros((10, n, 2, 2))\n",
    "\n",
    "x_fnear_f = np.zeros((10, n, 2))\n",
    "C_fnear_f = np.zeros((10, n, 2, 2))\n",
    "\n",
    "x_fnear[:, 0] = x0\n",
    "C_fnear[:, 0] = Q\n",
    "x_fnear_f[:, 0] = x0\n",
    "C_fnear_f[:, 0] = Q\n",
    "\n",
    "for f in range(10):\n",
    "    for i in range(n):\n",
    "        x_fnear[f, i] = Ak @ x_fnear[f, i-1]\n",
    "        C_fnear[f, i] = Ak @ C_fnear[f, i-1] @ Ak.T + Q\n",
    "\n",
    "        z[i] = Ck @ x_real[i] + R * np.random.normal()\n",
    "\n",
    "        K = C_fnear[f, i] @ Ck.T * 1/(Ck @ C_fnear[f, i] @ Ck.T + R) + 0.1*(1+f)\n",
    "        x_fnear_f[f, i] = x_fnear[f, i] + K * (z[i] - Ck @ x_fnear[f, i])\n",
    "        C_fnear_f[f, i] = C_fnear[f, i] - K * Ck @ C_fnear[f, i]\n"
   ]
  },
  {
   "cell_type": "code",
   "execution_count": 48,
   "metadata": {},
   "outputs": [
    {
     "name": "stderr",
     "output_type": "stream",
     "text": [
      "No artists with labels found to put in legend.  Note that artists whose label start with an underscore are ignored when legend() is called with no argument.\n"
     ]
    },
    {
     "data": {
      "image/png": "[encoded data removed]",
      "text/plain": [
       "<Figure size 640x480 with 1 Axes>"
      ]
     },
     "metadata": {},
     "output_type": "display_data"
    }
   ],
   "source": [
    "fig, ax = plt.subplots()\n",
    "fig.tight_layout()\n",
    "\n",
    "# a bar plot displaying the average error between the real trajectory and the filtered trajectory\n",
    "e_filters = np.zeros(11)\n",
    "\n",
    "e_filters[0] = np.mean([np.linalg.norm(x_real[i] - x_filt[i]) for i in range(n)])\n",
    "for f in range(1, 10):\n",
    "    e_filters[f] = np.mean([np.linalg.norm(x_real[i] - x_fnear_f[f, i]) for i in range(n)])\n",
    "\n",
    "x_axis = ['Kalman', 'Filter 1', 'Filter 2', 'Filter 3', 'Filter 4', 'Filter 5', 'Filter 6', 'Filter 7', 'Filter 8', 'Filter 9', 'Filter 10']\n",
    "ax.bar(x_axis, e_filters)\n",
    "\n",
    "ax.set_xlabel('Filter')\n",
    "ax.set_ylabel('Average error')\n",
    "ax.set_title('Error Kalman vs. nearby filters')\n",
    "ax.legend()\n",
    "#plt.savefig('HW3_3_error.png', dpi=300)\n",
    "plt.show()"
   ]
  }
 ],
 "metadata": {
  "kernelspec": {
   "display_name": "env",
   "language": "python",
   "name": "python3"
  },
  "language_info": {
   "codemirror_mode": {
    "name": "ipython",
    "version": 3
   },
   "file_extension": ".py",
   "mimetype": "text/x-python",
   "name": "python",
   "nbconvert_exporter": "python",
   "pygments_lexer": "ipython3",
   "version": "3.9.6"
  },
  "orig_nbformat": 4
 },
 "nbformat": 4,
 "nbformat_minor": 2
}
