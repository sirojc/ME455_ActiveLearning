{
 "cells": [
  {
   "cell_type": "code",
   "execution_count": 79,
   "metadata": {},
   "outputs": [],
   "source": [
    "import numpy as np\n",
    "import matplotlib.pyplot as plt\n",
    "\n",
    "# Plots LaTeX-Style\n",
    "plt.rcParams['mathtext.fontset'] = 'stix'\n",
    "plt.rcParams['font.family'] = 'STIXGeneral'"
   ]
  },
  {
   "cell_type": "code",
   "execution_count": 80,
   "metadata": {},
   "outputs": [],
   "source": [
    "T = 1\n",
    "h = 0.1\n",
    "n = int(T/h) + 1\n",
    "\n",
    "A = np.array([[0, 1],[-1, 0]])\n",
    "x0 = np.array([1, 1])\n",
    "\n",
    "var = 0.1\n",
    "std = np.sqrt(var)"
   ]
  },
  {
   "cell_type": "code",
   "execution_count": 81,
   "metadata": {},
   "outputs": [],
   "source": [
    "def dynamics(x0):\n",
    "    intg = 0\n",
    "    x = np.zeros((n,2))\n",
    "    x[0] = x0\n",
    "    for i in range(n-1):\n",
    "        x[i+1] = x[i] + h*np.dot(A, x[i]) #+ np.random.normal(0,std,2)\n",
    "    return x"
   ]
  },
  {
   "cell_type": "code",
   "execution_count": 82,
   "metadata": {},
   "outputs": [
    {
     "name": "stdout",
     "output_type": "stream",
     "text": [
      "[[ 1.          1.        ]\n",
      " [ 1.1         0.9       ]\n",
      " [ 1.19        0.79      ]\n",
      " [ 1.269       0.671     ]\n",
      " [ 1.3361      0.5441    ]\n",
      " [ 1.39051     0.41049   ]\n",
      " [ 1.431559    0.271439  ]\n",
      " [ 1.4587029   0.1282831 ]\n",
      " [ 1.47153121 -0.01758719]\n",
      " [ 1.46977249 -0.16474031]\n",
      " [ 1.45329846 -0.31171756]]\n"
     ]
    }
   ],
   "source": [
    "print(dynamics(x0))"
   ]
  }
 ],
 "metadata": {
  "kernelspec": {
   "display_name": "env",
   "language": "python",
   "name": "python3"
  },
  "language_info": {
   "codemirror_mode": {
    "name": "ipython",
    "version": 3
   },
   "file_extension": ".py",
   "mimetype": "text/x-python",
   "name": "python",
   "nbconvert_exporter": "python",
   "pygments_lexer": "ipython3",
   "version": "3.9.6"
  },
  "orig_nbformat": 4
 },
 "nbformat": 4,
 "nbformat_minor": 2
}
