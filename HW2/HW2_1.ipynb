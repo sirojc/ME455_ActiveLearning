{
 "cells": [
  {
   "cell_type": "code",
   "execution_count": 1,
   "metadata": {},
   "outputs": [],
   "source": [
    "import numpy as np\n",
    "import matplotlib.pyplot as plt"
   ]
  },
  {
   "cell_type": "code",
   "execution_count": 2,
   "metadata": {},
   "outputs": [],
   "source": [
    "T = 2 * np.pi\n",
    "n = 1000\n",
    "h = T / n\n",
    "\n",
    "Q = [[10, 0, 0],[0, 10, 0],[0, 0, 1]]\n",
    "R = [[1, 0],[0, 1]]"
   ]
  },
  {
   "cell_type": "code",
   "execution_count": 3,
   "metadata": {},
   "outputs": [],
   "source": [
    "# Dynamics\n",
    "def dynamics(x0, u):\n",
    "    x = np.zeros((n,3))\n",
    "    x[0] = x0\n",
    "    for i in range(n-1):\n",
    "        x[i+1,2] = x[i,2] + h*u[i,1]\n",
    "        x[i+1,0] = x[i,0] + h*np.cos(x[i,2])*u[i,0]\n",
    "        x[i+1,1] = x[i,1] + h*np.sin(x[i,2])*u[i,0]\n",
    "    return x"
   ]
  },
  {
   "cell_type": "code",
   "execution_count": 4,
   "metadata": {},
   "outputs": [],
   "source": [
    "# Cost Function\n",
    "def J(x, u):\n",
    "    intg = 0\n",
    "    for i in range(len(x)):\n",
    "        intg += h*(np.dot(np.dot((x[i] - x_g[i]).T, Q), (x[i]-x_g[i])) + np.dot(np.dot(u[i].T, R), u[i]))\n",
    "    return intg\n",
    "\n",
    "# Cost Function Directional Derivative\n",
    "def DJ(x, u, zheta):\n",
    "    intg = 0\n",
    "    for i in range(len(x)):\n",
    "        intg += h*2*(np.dot(np.dot((x[i] - x_g[i]).T, Q), zheta[i, :3]) + np.dot(np.dot(u[i].T, R), zheta[i, 3:]))\n",
    "    return intg"
   ]
  },
  {
   "cell_type": "code",
   "execution_count": 5,
   "metadata": {},
   "outputs": [],
   "source": [
    "# Goal Trajectory\n",
    "x_g = np.zeros((n,3))\n",
    "for i in range(n):\n",
    "    x_g[i,0] = 2*h*i/np.pi\n",
    "    x_g[i,2] = np.pi/2\n",
    "\n",
    "# Initial Trajectory\n",
    "x0 = [0,0,np.pi/2]\n",
    "u_init = np.zeros((n,2))\n",
    "for i in range(n-1):\n",
    "    u_init[i] = [1, -0.5]\n",
    "x_init = dynamics(x0, u_init)"
   ]
  },
  {
   "cell_type": "code",
   "execution_count": 6,
   "metadata": {},
   "outputs": [
    {
     "name": "stdout",
     "output_type": "stream",
     "text": [
      "160.37451961348165\n"
     ]
    }
   ],
   "source": [
    "# Initial Cost\n",
    "J_init = J(x_init, u_init)\n",
    "print(J_init)"
   ]
  },
  {
   "cell_type": "code",
   "execution_count": 7,
   "metadata": {},
   "outputs": [
    {
     "ename": "SyntaxError",
     "evalue": "invalid syntax (1462192039.py, line 12)",
     "output_type": "error",
     "traceback": [
      "\u001b[0;36m  Cell \u001b[0;32mIn[7], line 12\u001b[0;36m\u001b[0m\n\u001b[0;31m    zheta = argminDJ() +\u001b[0m\n\u001b[0m                         ^\u001b[0m\n\u001b[0;31mSyntaxError\u001b[0m\u001b[0;31m:\u001b[0m invalid syntax\n"
     ]
    }
   ],
   "source": [
    "# iLQR\n",
    "eps = 0.1 # Threshold\n",
    "\n",
    "u_iLQR = u_init\n",
    "x_iLQR = x_init\n",
    "zheta = np.zeros((n,5)) # zheta = [z0, z1, z2, v0, v1]\n",
    "\n",
    "i = 0\n",
    "while i==0 or np.abs(DJ(x_iLQR, u_iLQR, zheta)) > eps:\n",
    "    # Get zheta (perturbation)\n",
    "    # zheta = argmin(DJ(u)*zheta) + 0.5*np.dot(zheta.T, zheta)\n",
    "    zheta = argminDJ() + # TODO\n",
    "\n",
    "    # Armijo\n",
    "    alpha = 0.5\n",
    "    beta = 0.1\n",
    "    gamma = 1\n",
    "    J_u = J(x_iLQR, u_iLQR)\n",
    "    DJ_u_zheta = DJ(x_iLQR, u_iLQR, zheta)\n",
    "    while J(dynamics(x0, u_iLQR + gamma*zheta[:, 3:]), u_iLQR + gamma*zheta[:, 3:]) > J_u + alpha*gamma*DJ_u_zheta: # Goal Trajectory may not have same amount of steps as step size varies?\n",
    "        gamma *= beta\n",
    "\n",
    "    # Update u, x for all times\n",
    "    for j in range(len(u_iLQR)):\n",
    "        u_iLQR[j] += gamma*zheta[j, 3:]\n",
    "    x_iLQR = dynamics(x0, u_iLQR)\n",
    "    i += 1\n"
   ]
  },
  {
   "cell_type": "code",
   "execution_count": null,
   "metadata": {},
   "outputs": [],
   "source": [
    "# Plots: Initial Trajectory, Final Optimized Trajectory, Optimized Control Signal\n",
    "time_discr = np.linspace(0, T, n)\n",
    "\n",
    "#Plot Initial Trajectory\n",
    "fig, (ax1, ax2) = plt.subplots(2, 1, height_ratios=[2, 1], figsize=(6, 6))\n",
    "ax1.plot(x_init[0], x_init[1], label='Initial pos')\n",
    "ax1.plot(x_g[0], x_g[1], color='red', label='Goal pos')\n",
    "ax2.plot(time_discr, x_init[2]*180/np.pi, label=\"\\u03B8 Initial\")\n",
    "ax2.plot(time_discr, x_g[2], color='red', label=\"\\u03B8 $_{d}$\")\n",
    "ax1.set_xlabel(\"x\")\n",
    "ax1.set_ylabel(\"y\")\n",
    "ax1.set_ylim([-2, 2.1])\n",
    "ax2.set_xlabel(\"Time\")\n",
    "ax2.set_ylabel(\"\\u03B8(t) [°]\")\n",
    "ax1.legend()\n",
    "ax2.legend()\n",
    "fig.suptitle(\"Initial Trajectory\")\n",
    "#plt.savefig('ME455_ActiveLearning/HW2/HW2_1_init_traj.png')\n",
    "\n",
    "#Plots Final Optimized Trajectory\n",
    "fig2, (ax1, ax2, ax3) = plt.subplots(3, 1)\n",
    "ax1.step(time_discr, x_iLQR[0], label=\"x\")\n",
    "ax2.step(time_discr, x_iLQR[1], label=\"y\")\n",
    "ax1.plot(time_discr, x_g[0], color='red', label=r\"$x_{d}$\")\n",
    "ax2.plot(time_discr, x_g[1], color='red', label=r\"$y_{d}$\")\n",
    "ax3.step(time_discr, x_iLQR[2], label=\"\\u03B8\")\n",
    "ax3.plot(time_discr, x_g[2], color='red', label=\"\\u03B8$_{d}$\")\n",
    "ax1.set_xlabel(\"Time\")\n",
    "ax1.set_ylabel(\"x(t)\")\n",
    "ax2.set_xlabel(\"Time\")\n",
    "ax2.set_ylabel(\"y(t)\")\n",
    "ax3.set_xlabel(\"Time\")\n",
    "ax3.set_ylabel(\"\\u03B8(t) [°]\")\n",
    "ax1.legend()\n",
    "ax2.legend()\n",
    "ax3.legend()\n",
    "fig2.suptitle(\"Final Optimized Trajectory\")\n",
    "#plt.savefig('ME455_ActiveLearning/HW2/HW2_1_opt_time.png')\n",
    "\n",
    "\n",
    "fig3, ax = plt.subplots()\n",
    "ax.step(x_iLQR[0], x_iLQR[1], label='Optimized')\n",
    "ax.plot(x_g[0], x_g[1], color='red', label='Goal')\n",
    "ax.legend()\n",
    "ax.set_ylim([-2, 2])\n",
    "ax.set_xlabel(\"x\")\n",
    "ax.set_ylabel(\"y\")\n",
    "fig3.suptitle(\"Final Optimized Trajectory\")\n",
    "#plt.savefig('ME455_ActiveLearning/HW2/HW2_1_opt_xy.png')\n",
    "\n",
    "# Plot Optimized Control Signal\n",
    "fig4, ax = plt.subplots()\n",
    "ax.step(time_discr, u_iLQR[0], label=r\"u$_{1}$\")\n",
    "ax.step(time_discr, u_iLQR[1], label=r\"$u_{2}$\")\n",
    "ax.legend(loc='upper right')\n",
    "ax.set_xlabel(\"Time\")\n",
    "ax.set_ylabel(r\"$u(t)$\")\n",
    "fig4.suptitle(\"Optimized Controls\")\n",
    "#plt.savefig('ME455_ActiveLearning/HW2/HW2_1_opt_u.png')\n",
    "\n",
    "plt.show()\n",
    "\n"
   ]
  }
 ],
 "metadata": {
  "kernelspec": {
   "display_name": "env",
   "language": "python",
   "name": "python3"
  },
  "language_info": {
   "codemirror_mode": {
    "name": "ipython",
    "version": 3
   },
   "file_extension": ".py",
   "mimetype": "text/x-python",
   "name": "python",
   "nbconvert_exporter": "python",
   "pygments_lexer": "ipython3",
   "version": "3.9.6"
  },
  "orig_nbformat": 4
 },
 "nbformat": 4,
 "nbformat_minor": 2
}
